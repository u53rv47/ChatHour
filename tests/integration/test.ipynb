{
 "cells": [
  {
   "cell_type": "code",
   "execution_count": 1,
   "metadata": {},
   "outputs": [],
   "source": [
    "import boto3\n",
    "from websocket import create_connection\n",
    "from pprint import pprint\n"
   ]
  },
  {
   "cell_type": "code",
   "execution_count": 2,
   "metadata": {},
   "outputs": [],
   "source": [
    "url = 'wss://1qmwze1tod.execute-api.ap-south-1.amazonaws.com/Prod'\n",
    "client = boto3.client('cognito-idp')\n",
    "\n",
    "users = ['u53rv47', 'thephilomath']\n"
   ]
  },
  {
   "cell_type": "code",
   "execution_count": 7,
   "metadata": {},
   "outputs": [
    {
     "name": "stdout",
     "output_type": "stream",
     "text": [
      "wss://1qmwze1tod.execute-api.ap-south-1.amazonaws.com/Prod?authorizer=eyJraWQiOiJWUnVqSXg3SXB4QVEwNFBwNDhxREhYUE9lM2tuMmhnZ0haV2N4akFzc1FZPSIsImFsZyI6IlJTMjU2In0.eyJzdWIiOiJiYTU3ZjQyNC1jMmJjLTRkNGItODRkNi0wOTQ5OGE4YjE0NjEiLCJlbWFpbF92ZXJpZmllZCI6dHJ1ZSwiaXNzIjoiaHR0cHM6XC9cL2NvZ25pdG8taWRwLmFwLXNvdXRoLTEuYW1hem9uYXdzLmNvbVwvYXAtc291dGgtMV85N3lTN251b00iLCJjb2duaXRvOnVzZXJuYW1lIjoidTUzcnY0NyIsIm9yaWdpbl9qdGkiOiIwMmFmNmMxZS1kNDc0LTRhMzctYWYzOS02Y2Q4OTEzZDBjYTkiLCJhdWQiOiI3amVhbW10bWc5MW51aWxkbDhzM252ZThxMSIsImV2ZW50X2lkIjoiYmU5ZmIyZjAtMTMxMi00NzczLWI3NGEtNzIyOTc3MjM1OWVjIiwidG9rZW5fdXNlIjoiaWQiLCJhdXRoX3RpbWUiOjE2Nzk2NDQwNzYsIm5hbWUiOiJWaWpheSBTaW5naCIsImV4cCI6MTY3OTY0NzY3NiwiaWF0IjoxNjc5NjQ0MDc2LCJqdGkiOiJiZjY5MWE4YS1mNmExLTRhMDctODc1NC1iNjVkNmI2OTJhZmMiLCJlbWFpbCI6InZpamF5c2luZ2g5OTcwMjJAZ21haWwuY29tIn0.S1fPixm6JPaOs5EESbAA_aXYqZvF0x32cD-ind2_nC_qqe79Wc3KNS9O92yRp-IWkXnxpl7bPzouFCld3WZszUS3qC0Yah9gAoRvjghbN9meEBGU6SlDFfnexXB6Ru6HroX-HVQ3cZ0cAczhe06_NItH2QNqFrFup0dKSsiVlwk8rgrK3M0wdYxX_hjJLluTcSRdzw9Yoy-8tK03Pr5ErKTCeqtGA2lrAffVLCQB8s1bmqEw1Kz1opawIURYkuX9jjRlXH15TPuYO4--1PPX3RdeW-pAptE7Nt2skOZ8RahbPYslb-30TCB56ds3u2eIy4LLzpBPnPSZcC6B3E9LNQ?authorizer=eyJraWQiOiJWUnVqSXg3SXB4QVEwNFBwNDhxREhYUE9lM2tuMmhnZ0haV2N4akFzc1FZPSIsImFsZyI6IlJTMjU2In0.eyJzdWIiOiI2YTQ1YWMwNS0zYzMxLTQ1MTktODI4Zi0wNjAwMWJjYjNjYTYiLCJlbWFpbF92ZXJpZmllZCI6dHJ1ZSwiaXNzIjoiaHR0cHM6XC9cL2NvZ25pdG8taWRwLmFwLXNvdXRoLTEuYW1hem9uYXdzLmNvbVwvYXAtc291dGgtMV85N3lTN251b00iLCJjb2duaXRvOnVzZXJuYW1lIjoidGhlcGhpbG9tYXRoIiwib3JpZ2luX2p0aSI6Ijg0MTRhZWIyLTgzMGQtNDg2YS04MTNhLTQ1YzRiOTQ1YWIzOSIsImF1ZCI6IjdqZWFtbXRtZzkxbnVpbGRsOHMzbnZlOHExIiwiZXZlbnRfaWQiOiIyNzdmMjhmMi1mOGU3LTQ5NDQtODIwYS0zYjdiYWUwMjM5ZWYiLCJ0b2tlbl91c2UiOiJpZCIsImF1dGhfdGltZSI6MTY3OTY0NDA4MSwibmFtZSI6IlRoZSBQaGlsb21hdGgiLCJleHAiOjE2Nzk2NDc2ODEsImlhdCI6MTY3OTY0NDA4MSwianRpIjoiODg4ZDVhOTMtZjc1NC00NmU4LWJkMjAtZDQ1MzRjMjQzMjY4IiwiZW1haWwiOiJ0aGVwaGlsb21hdGh3b3JsZEBnbWFpbC5jb20ifQ.RLXbSUPO11JK1-LTaGod49_Y2biDYSKc1RUEOz0vFAW0nmV0SNVhOm-nLUGfVFGozYe9g2vA7IekPik34MXugWPdsGcBN3MZVuLrXGC8KRrXmCpZ2z5Y7hfFe2d7c7c92yOlcvcyJPjGA3ARPGOr6dfwUzf1pYnX5qhN6miFyek0kmzWlcholhwmc_mgXihrmigIar3H6Xr7ijC2Kgc9H0AweEB_Qt9AXDMWd99vil-iDazZlvKOund9DYpV-F3thsd9UYpqjipLkcRWQ9v2M1empB_AfNHMA0ZAsZHnSkwxwiTP-gTVOleD6ib3CWeF80Cjd5jhBsFWvye1ANjV_Q?authorizer=eyJraWQiOiJWUnVqSXg3SXB4QVEwNFBwNDhxREhYUE9lM2tuMmhnZ0haV2N4akFzc1FZPSIsImFsZyI6IlJTMjU2In0.eyJzdWIiOiJiYTU3ZjQyNC1jMmJjLTRkNGItODRkNi0wOTQ5OGE4YjE0NjEiLCJlbWFpbF92ZXJpZmllZCI6dHJ1ZSwiaXNzIjoiaHR0cHM6XC9cL2NvZ25pdG8taWRwLmFwLXNvdXRoLTEuYW1hem9uYXdzLmNvbVwvYXAtc291dGgtMV85N3lTN251b00iLCJjb2duaXRvOnVzZXJuYW1lIjoidTUzcnY0NyIsIm9yaWdpbl9qdGkiOiI4OWYxMTJhNy04OGY1LTRjMzgtOTVjYy1kMTUxNGNiNWNkZGQiLCJhdWQiOiI3amVhbW10bWc5MW51aWxkbDhzM252ZThxMSIsImV2ZW50X2lkIjoiNDI4MDA2MTctZjY5Ny00NjdmLWE4YjgtNmIyZTMxOTAyMWEzIiwidG9rZW5fdXNlIjoiaWQiLCJhdXRoX3RpbWUiOjE2Nzk2NDQyMTAsIm5hbWUiOiJWaWpheSBTaW5naCIsImV4cCI6MTY3OTY0NzgxMCwiaWF0IjoxNjc5NjQ0MjEwLCJqdGkiOiI5ZWEyNTUzMi0yZjdhLTQwNzctODEwYi0zZDM5OTlkN2Y2N2YiLCJlbWFpbCI6InZpamF5c2luZ2g5OTcwMjJAZ21haWwuY29tIn0.FQuKWz7M3a8CoAJIlJY3c1Lz0Aw8RXFel2JYect4rgFjIkO2y8ECScIkCeMcmiQOaCKRYiOOHRhHWnOCUnYk8THP7kTji6J-IXl-9FViTogp5pe-SNsMiBsOJqHBe1D6XHg3TEI75kEjkLq1ARZKg_E6vTHszTz3OrCX8jpSjrkT2qP_grovEj5kYQRtSMtTAvNHiOLTvDqgzV--MJCEwor7Z5UjnjTvyXR4wQS8fYo2qJ3QU8P5zrL9FWt0mb7nu1hVe2Bev6KKIuo8VbC8rd1VDm5_4a43wIa1MpPefiRfNZihVBVf5uiBmi1yHWgCqoGfY9QW7q3TD8iLMay3rQ\n"
     ]
    }
   ],
   "source": [
    "\n",
    "response = client.admin_initiate_auth(\n",
    "ClientId='7jeammtmg91nuildl8s3nve8q1',\n",
    "UserPoolId='ap-south-1_97yS7nuoM',\n",
    "AuthFlow='ADMIN_USER_PASSWORD_AUTH',\n",
    "AuthParameters={\n",
    "    'USERNAME': users[0],\n",
    "    'PASSWORD': 'Vij88086@ay'\n",
    "})\n",
    "\n",
    "token = response['AuthenticationResult']['IdToken']\n",
    "url = url + '?authorizer=' + token\n",
    "print(url)\n",
    "# ws0 = create_connection(url)\n"
   ]
  },
  {
   "cell_type": "code",
   "execution_count": 4,
   "metadata": {},
   "outputs": [
    {
     "name": "stdout",
     "output_type": "stream",
     "text": [
      "wss://1qmwze1tod.execute-api.ap-south-1.amazonaws.com/Prod?authorizer=eyJraWQiOiJWUnVqSXg3SXB4QVEwNFBwNDhxREhYUE9lM2tuMmhnZ0haV2N4akFzc1FZPSIsImFsZyI6IlJTMjU2In0.eyJzdWIiOiJiYTU3ZjQyNC1jMmJjLTRkNGItODRkNi0wOTQ5OGE4YjE0NjEiLCJlbWFpbF92ZXJpZmllZCI6dHJ1ZSwiaXNzIjoiaHR0cHM6XC9cL2NvZ25pdG8taWRwLmFwLXNvdXRoLTEuYW1hem9uYXdzLmNvbVwvYXAtc291dGgtMV85N3lTN251b00iLCJjb2duaXRvOnVzZXJuYW1lIjoidTUzcnY0NyIsIm9yaWdpbl9qdGkiOiIwMmFmNmMxZS1kNDc0LTRhMzctYWYzOS02Y2Q4OTEzZDBjYTkiLCJhdWQiOiI3amVhbW10bWc5MW51aWxkbDhzM252ZThxMSIsImV2ZW50X2lkIjoiYmU5ZmIyZjAtMTMxMi00NzczLWI3NGEtNzIyOTc3MjM1OWVjIiwidG9rZW5fdXNlIjoiaWQiLCJhdXRoX3RpbWUiOjE2Nzk2NDQwNzYsIm5hbWUiOiJWaWpheSBTaW5naCIsImV4cCI6MTY3OTY0NzY3NiwiaWF0IjoxNjc5NjQ0MDc2LCJqdGkiOiJiZjY5MWE4YS1mNmExLTRhMDctODc1NC1iNjVkNmI2OTJhZmMiLCJlbWFpbCI6InZpamF5c2luZ2g5OTcwMjJAZ21haWwuY29tIn0.S1fPixm6JPaOs5EESbAA_aXYqZvF0x32cD-ind2_nC_qqe79Wc3KNS9O92yRp-IWkXnxpl7bPzouFCld3WZszUS3qC0Yah9gAoRvjghbN9meEBGU6SlDFfnexXB6Ru6HroX-HVQ3cZ0cAczhe06_NItH2QNqFrFup0dKSsiVlwk8rgrK3M0wdYxX_hjJLluTcSRdzw9Yoy-8tK03Pr5ErKTCeqtGA2lrAffVLCQB8s1bmqEw1Kz1opawIURYkuX9jjRlXH15TPuYO4--1PPX3RdeW-pAptE7Nt2skOZ8RahbPYslb-30TCB56ds3u2eIy4LLzpBPnPSZcC6B3E9LNQ?authorizer=eyJraWQiOiJWUnVqSXg3SXB4QVEwNFBwNDhxREhYUE9lM2tuMmhnZ0haV2N4akFzc1FZPSIsImFsZyI6IlJTMjU2In0.eyJzdWIiOiI2YTQ1YWMwNS0zYzMxLTQ1MTktODI4Zi0wNjAwMWJjYjNjYTYiLCJlbWFpbF92ZXJpZmllZCI6dHJ1ZSwiaXNzIjoiaHR0cHM6XC9cL2NvZ25pdG8taWRwLmFwLXNvdXRoLTEuYW1hem9uYXdzLmNvbVwvYXAtc291dGgtMV85N3lTN251b00iLCJjb2duaXRvOnVzZXJuYW1lIjoidGhlcGhpbG9tYXRoIiwib3JpZ2luX2p0aSI6Ijg0MTRhZWIyLTgzMGQtNDg2YS04MTNhLTQ1YzRiOTQ1YWIzOSIsImF1ZCI6IjdqZWFtbXRtZzkxbnVpbGRsOHMzbnZlOHExIiwiZXZlbnRfaWQiOiIyNzdmMjhmMi1mOGU3LTQ5NDQtODIwYS0zYjdiYWUwMjM5ZWYiLCJ0b2tlbl91c2UiOiJpZCIsImF1dGhfdGltZSI6MTY3OTY0NDA4MSwibmFtZSI6IlRoZSBQaGlsb21hdGgiLCJleHAiOjE2Nzk2NDc2ODEsImlhdCI6MTY3OTY0NDA4MSwianRpIjoiODg4ZDVhOTMtZjc1NC00NmU4LWJkMjAtZDQ1MzRjMjQzMjY4IiwiZW1haWwiOiJ0aGVwaGlsb21hdGh3b3JsZEBnbWFpbC5jb20ifQ.RLXbSUPO11JK1-LTaGod49_Y2biDYSKc1RUEOz0vFAW0nmV0SNVhOm-nLUGfVFGozYe9g2vA7IekPik34MXugWPdsGcBN3MZVuLrXGC8KRrXmCpZ2z5Y7hfFe2d7c7c92yOlcvcyJPjGA3ARPGOr6dfwUzf1pYnX5qhN6miFyek0kmzWlcholhwmc_mgXihrmigIar3H6Xr7ijC2Kgc9H0AweEB_Qt9AXDMWd99vil-iDazZlvKOund9DYpV-F3thsd9UYpqjipLkcRWQ9v2M1empB_AfNHMA0ZAsZHnSkwxwiTP-gTVOleD6ib3CWeF80Cjd5jhBsFWvye1ANjV_Q\n"
     ]
    },
    {
     "ename": "WebSocketBadStatusException",
     "evalue": "Handshake status 403 Forbidden",
     "output_type": "error",
     "traceback": [
      "\u001b[1;31m---------------------------------------------------------------------------\u001b[0m",
      "\u001b[1;31mWebSocketBadStatusException\u001b[0m               Traceback (most recent call last)",
      "Cell \u001b[1;32mIn[4], line 13\u001b[0m\n\u001b[0;32m     11\u001b[0m url \u001b[39m=\u001b[39m url \u001b[39m+\u001b[39m \u001b[39m'\u001b[39m\u001b[39m?authorizer=\u001b[39m\u001b[39m'\u001b[39m \u001b[39m+\u001b[39m token\n\u001b[0;32m     12\u001b[0m \u001b[39mprint\u001b[39m(url)\n\u001b[1;32m---> 13\u001b[0m ws1 \u001b[39m=\u001b[39m create_connection(url)\n",
      "File \u001b[1;32mc:\\Users\\vijay\\AppData\\Local\\Programs\\Python\\Python39\\lib\\site-packages\\websocket\\_core.py:608\u001b[0m, in \u001b[0;36mcreate_connection\u001b[1;34m(url, timeout, class_, **options)\u001b[0m\n\u001b[0;32m    603\u001b[0m websock \u001b[39m=\u001b[39m class_(sockopt\u001b[39m=\u001b[39msockopt, sslopt\u001b[39m=\u001b[39msslopt,\n\u001b[0;32m    604\u001b[0m                  fire_cont_frame\u001b[39m=\u001b[39mfire_cont_frame,\n\u001b[0;32m    605\u001b[0m                  enable_multithread\u001b[39m=\u001b[39menable_multithread,\n\u001b[0;32m    606\u001b[0m                  skip_utf8_validation\u001b[39m=\u001b[39mskip_utf8_validation, \u001b[39m*\u001b[39m\u001b[39m*\u001b[39moptions)\n\u001b[0;32m    607\u001b[0m websock\u001b[39m.\u001b[39msettimeout(timeout \u001b[39mif\u001b[39;00m timeout \u001b[39mis\u001b[39;00m \u001b[39mnot\u001b[39;00m \u001b[39mNone\u001b[39;00m \u001b[39melse\u001b[39;00m getdefaulttimeout())\n\u001b[1;32m--> 608\u001b[0m websock\u001b[39m.\u001b[39mconnect(url, \u001b[39m*\u001b[39m\u001b[39m*\u001b[39moptions)\n\u001b[0;32m    609\u001b[0m \u001b[39mreturn\u001b[39;00m websock\n",
      "File \u001b[1;32mc:\\Users\\vijay\\AppData\\Local\\Programs\\Python\\Python39\\lib\\site-packages\\websocket\\_core.py:253\u001b[0m, in \u001b[0;36mWebSocket.connect\u001b[1;34m(self, url, **options)\u001b[0m\n\u001b[0;32m    249\u001b[0m \u001b[39mself\u001b[39m\u001b[39m.\u001b[39msock, addrs \u001b[39m=\u001b[39m connect(url, \u001b[39mself\u001b[39m\u001b[39m.\u001b[39msock_opt, proxy_info(\u001b[39m*\u001b[39m\u001b[39m*\u001b[39moptions),\n\u001b[0;32m    250\u001b[0m                            options\u001b[39m.\u001b[39mpop(\u001b[39m'\u001b[39m\u001b[39msocket\u001b[39m\u001b[39m'\u001b[39m, \u001b[39mNone\u001b[39;00m))\n\u001b[0;32m    252\u001b[0m \u001b[39mtry\u001b[39;00m:\n\u001b[1;32m--> 253\u001b[0m     \u001b[39mself\u001b[39m\u001b[39m.\u001b[39mhandshake_response \u001b[39m=\u001b[39m handshake(\u001b[39mself\u001b[39m\u001b[39m.\u001b[39msock, url, \u001b[39m*\u001b[39maddrs, \u001b[39m*\u001b[39m\u001b[39m*\u001b[39moptions)\n\u001b[0;32m    254\u001b[0m     \u001b[39mfor\u001b[39;00m attempt \u001b[39min\u001b[39;00m \u001b[39mrange\u001b[39m(options\u001b[39m.\u001b[39mpop(\u001b[39m'\u001b[39m\u001b[39mredirect_limit\u001b[39m\u001b[39m'\u001b[39m, \u001b[39m3\u001b[39m)):\n\u001b[0;32m    255\u001b[0m         \u001b[39mif\u001b[39;00m \u001b[39mself\u001b[39m\u001b[39m.\u001b[39mhandshake_response\u001b[39m.\u001b[39mstatus \u001b[39min\u001b[39;00m SUPPORTED_REDIRECT_STATUSES:\n",
      "File \u001b[1;32mc:\\Users\\vijay\\AppData\\Local\\Programs\\Python\\Python39\\lib\\site-packages\\websocket\\_handshake.py:57\u001b[0m, in \u001b[0;36mhandshake\u001b[1;34m(sock, url, hostname, port, resource, **options)\u001b[0m\n\u001b[0;32m     54\u001b[0m send(sock, header_str)\n\u001b[0;32m     55\u001b[0m dump(\u001b[39m\"\u001b[39m\u001b[39mrequest header\u001b[39m\u001b[39m\"\u001b[39m, header_str)\n\u001b[1;32m---> 57\u001b[0m status, resp \u001b[39m=\u001b[39m _get_resp_headers(sock)\n\u001b[0;32m     58\u001b[0m \u001b[39mif\u001b[39;00m status \u001b[39min\u001b[39;00m SUPPORTED_REDIRECT_STATUSES:\n\u001b[0;32m     59\u001b[0m     \u001b[39mreturn\u001b[39;00m handshake_response(status, resp, \u001b[39mNone\u001b[39;00m)\n",
      "File \u001b[1;32mc:\\Users\\vijay\\AppData\\Local\\Programs\\Python\\Python39\\lib\\site-packages\\websocket\\_handshake.py:147\u001b[0m, in \u001b[0;36m_get_resp_headers\u001b[1;34m(sock, success_statuses)\u001b[0m\n\u001b[0;32m    145\u001b[0m status, resp_headers, status_message \u001b[39m=\u001b[39m read_headers(sock)\n\u001b[0;32m    146\u001b[0m \u001b[39mif\u001b[39;00m status \u001b[39mnot\u001b[39;00m \u001b[39min\u001b[39;00m success_statuses:\n\u001b[1;32m--> 147\u001b[0m     \u001b[39mraise\u001b[39;00m WebSocketBadStatusException(\u001b[39m\"\u001b[39m\u001b[39mHandshake status \u001b[39m\u001b[39m%d\u001b[39;00m\u001b[39m \u001b[39m\u001b[39m%s\u001b[39;00m\u001b[39m\"\u001b[39m, status, status_message, resp_headers)\n\u001b[0;32m    148\u001b[0m \u001b[39mreturn\u001b[39;00m status, resp_headers\n",
      "\u001b[1;31mWebSocketBadStatusException\u001b[0m: Handshake status 403 Forbidden"
     ]
    }
   ],
   "source": [
    "\n",
    "response = client.admin_initiate_auth(\n",
    "    ClientId='7jeammtmg91nuildl8s3nve8q1',\n",
    "    UserPoolId='ap-south-1_97yS7nuoM',\n",
    "    AuthFlow='ADMIN_USER_PASSWORD_AUTH',\n",
    "    AuthParameters={\n",
    "        'USERNAME': users[1],\n",
    "        'PASSWORD': 'Vij88086@ay'\n",
    "    })\n",
    "\n",
    "token = response['AuthenticationResult']['IdToken']\n",
    "url = url + '?authorizer=' + token\n",
    "print(url)\n",
    "ws1 = create_connection(url)\n"
   ]
  },
  {
   "cell_type": "code",
   "execution_count": null,
   "metadata": {},
   "outputs": [],
   "source": [
    "# import websocket\n",
    "# import _thread\n",
    "# import time\n",
    "# import rel\n",
    "\n",
    "\n",
    "# def on_message(ws, message):\n",
    "#     print(message)\n",
    "\n",
    "\n",
    "# def on_error(ws, error):\n",
    "#     print(error)\n",
    "\n",
    "\n",
    "# def on_close(ws, close_status_code, close_msg):\n",
    "#     print(\"### closed ###\")\n",
    "\n",
    "\n",
    "# def on_open(ws):\n",
    "#     print(\"Opened connection\")\n",
    "\n",
    "\n",
    "# if __name__ == \"__main__\":\n",
    "#     websocket.enableTrace(True)\n",
    "#     ws = websocket.WebSocketApp(url,\n",
    "#                                 on_open=on_open,\n",
    "#                                 on_message=on_message,\n",
    "#                                 on_error=on_error,\n",
    "#                                 on_close=on_close)\n",
    "\n",
    "#     # Set dispatcher to automatic reconnection, 5 second reconnect delay if connection closed unexpectedly\n",
    "#     ws.run_forever(dispatcher=rel, reconnect=5)\n",
    "#     rel.signal(2, rel.abort)  # Keyboard Interrupt\n",
    "#     rel.dispatch()\n"
   ]
  },
  {
   "cell_type": "code",
   "execution_count": 17,
   "metadata": {},
   "outputs": [
    {
     "name": "stdout",
     "output_type": "stream",
     "text": [
      "18\n"
     ]
    }
   ],
   "source": [
    "wss[0].send(\"Hello, World\")\n"
   ]
  },
  {
   "cell_type": "code",
   "execution_count": null,
   "metadata": {},
   "outputs": [],
   "source": [
    "print(wss[1].recv())\n"
   ]
  },
  {
   "cell_type": "code",
   "execution_count": null,
   "metadata": {},
   "outputs": [],
   "source": [
    "\n",
    "print(\"Sending 'Hello, World'...\")\n",
    "ws.send(\"Hello, World\")\n",
    "print(\"Sent\")\n",
    "print(\"Receiving...\")\n",
    "result = ws.recv()\n",
    "print(\"Received '%s'\" % result)\n",
    "\n"
   ]
  },
  {
   "cell_type": "code",
   "execution_count": 6,
   "metadata": {},
   "outputs": [
    {
     "ename": "NameError",
     "evalue": "name 'ws1' is not defined",
     "output_type": "error",
     "traceback": [
      "\u001b[1;31m---------------------------------------------------------------------------\u001b[0m",
      "\u001b[1;31mNameError\u001b[0m                                 Traceback (most recent call last)",
      "Cell \u001b[1;32mIn[6], line 1\u001b[0m\n\u001b[1;32m----> 1\u001b[0m ws1\u001b[39m.\u001b[39mclose()\n",
      "\u001b[1;31mNameError\u001b[0m: name 'ws1' is not defined"
     ]
    }
   ],
   "source": [
    "ws.close()\n"
   ]
  }
 ],
 "metadata": {
  "kernelspec": {
   "display_name": "Python 3",
   "language": "python",
   "name": "python3"
  },
  "language_info": {
   "codemirror_mode": {
    "name": "ipython",
    "version": 3
   },
   "file_extension": ".py",
   "mimetype": "text/x-python",
   "name": "python",
   "nbconvert_exporter": "python",
   "pygments_lexer": "ipython3",
   "version": "3.9.13"
  },
  "orig_nbformat": 4
 },
 "nbformat": 4,
 "nbformat_minor": 2
}
